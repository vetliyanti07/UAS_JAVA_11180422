{
 "cells": [
  {
   "cell_type": "markdown",
   "metadata": {},
   "source": [
    "Soal 7.1\n",
    "Implementasikan kode berikut yang merupakan contoh dan cara mengakses data dari array dua dimensi:"
   ]
  },
  {
   "cell_type": "code",
   "execution_count": 10,
   "metadata": {},
   "outputs": [
    {
     "name": "stdout",
     "output_type": "stream",
     "text": [
      "Nama Lili\n",
      "NIM 08111\n",
      "Nama Lala\n",
      "NIM 08122\n",
      "Nama Maya\n",
      "NIM 08133\n"
     ]
    },
    {
     "data": {
      "text/plain": [
       "null"
      ]
     },
     "execution_count": 10,
     "metadata": {},
     "output_type": "execute_result"
    }
   ],
   "source": [
    "//program 7.1\n",
    "\n",
    " String[][] Siswa = {\n",
    "    {\"Lili\",\"08111\"},\n",
    "    {\"Lala\",\"08122\"},\n",
    "    {\"Maya\",\"08133\"}\n",
    "};\n",
    "\n",
    "for(int x=0; x < Siswa.length; x++){\n",
    "    System.out.println(\"Nama \"+Siswa[x][0]);\n",
    "    System.out.println(\"NIM \"+Siswa[x][1]);\n",
    "}"
   ]
  },
  {
   "cell_type": "markdown",
   "metadata": {},
   "source": [
    "Soal 7.2"
   ]
  },
  {
   "cell_type": "markdown",
   "metadata": {},
   "source": [
    "Terdapat sebuah data tabular Mahasiswa dengan dengan tabel sebagai berikut :\n",
    "\n",
    "|  NIM  |  Nama  |IPK|     \n",
    "|\"08111\"|\"Dono  \"|3.0|\n",
    "|\"08113\"|\"Kasino\"|2.7|\n",
    "|\"08115\"|\"Indro \"|3.1|\n",
    "\n",
    "Implementasikan data tabular Mahasiswa diatas dalam sebuah array multi dimensi kedalam program 7.2"
   ]
  },
  {
   "cell_type": "code",
   "execution_count": 11,
   "metadata": {},
   "outputs": [
    {
     "name": "stdout",
     "output_type": "stream",
     "text": [
      "NIM 08111\n",
      "NAMA Dono\n",
      "IPK 3.0\n",
      "NIM 08122\n",
      "NAMA Kasino\n",
      "IPK 2.7\n",
      "NIM 08133\n",
      "NAMA Indro\n",
      "IPK 3.1\n"
     ]
    },
    {
     "data": {
      "text/plain": [
       "null"
      ]
     },
     "execution_count": 11,
     "metadata": {},
     "output_type": "execute_result"
    }
   ],
   "source": [
    "//program 7.2\n",
    "\n",
    " String[][] Siswa = {\n",
    "    {\"08111\",\"Dono\",\"3.0\"},\n",
    "    {\"08122\",\"Kasino\",\"2.7\"},\n",
    "    {\"08133\",\"Indro\",\"3.1\"}\n",
    "};\n",
    "\n",
    "for(int x=0; x < Siswa.length; x++){\n",
    "    System.out.println(\"NIM \"+Siswa[x][0]);\n",
    "    System.out.println(\"NAMA \"+Siswa[x][1]);\n",
    "    System.out.println(\"IPK \"+Siswa[x][2]);\n",
    "}"
   ]
  },
  {
   "cell_type": "markdown",
   "metadata": {},
   "source": [
    "Soal 7.4\n",
    "Implementasikan kode Program 7.4 dibawah ini, lakukan juga inisisiali untuk element element dari array yang dibutuhkan"
   ]
  },
  {
   "cell_type": "code",
   "execution_count": 1,
   "metadata": {},
   "outputs": [
    {
     "data": {
      "text/plain": [
       "com.twosigma.beaker.javash.bkrbe7a6a14.PersegiPanjang"
      ]
     },
     "execution_count": 1,
     "metadata": {},
     "output_type": "execute_result"
    }
   ],
   "source": [
    "//Program 7.3\n",
    "class PersegiPanjang{\n",
    "    int panjang;\n",
    "    int lebar;\n",
    "    int luas;\n",
    "\n",
    "    void setPanjang(int panjang) { \n",
    "        this.panjang = panjang;\n",
    "    } \n",
    "\n",
    "    void setLebar(int lebar) { \n",
    "        this.lebar = lebar; \n",
    "    } \n",
    "    int getLuas(){\n",
    "      luas = panjang * lebar;\n",
    "      return luas;  \n",
    "    }\n",
    "}\n"
   ]
  },
  {
   "cell_type": "code",
   "execution_count": 16,
   "metadata": {},
   "outputs": [
    {
     "name": "stdout",
     "output_type": "stream",
     "text": [
      "Luas Element ke 0 adalah 50\n",
      "Luas Element adalah 0 50\n"
     ]
    },
    {
     "ename": "ERROR",
     "evalue": " java.lang.NullPointerException",
     "output_type": "error",
     "traceback": [
      "\u001b[1;31mERROR: java.lang.NullPointerException\u001b[0;0m"
     ]
    }
   ],
   "source": [
    "PersegiPanjang [] myArray = new PersegiPanjang [3];\n",
    "\n",
    "        myArray[0] = new PersegiPanjang();\n",
    "        myArray[0].setPanjang(10); \n",
    "        myArray[0].setLebar(5);\n",
    "\n",
    "        System.out.println(\"Luas Element ke 0 adalah \"+ myArray[0].getLuas());\n",
    "\n",
    "        /*\n",
    "         Lakukan inisialisasi Objek PersegiPanjang elemen ke 2 dan ke 3 disini \n",
    "        */\n",
    "\n",
    "        for (int i = 0; i < myArray.length; i++) {\n",
    "            System.out.println(\"Luas Element adalah \"+i+\" \"+ myArray[i].getLuas());\n",
    "\n",
    "        }\n"
   ]
  },
  {
   "cell_type": "markdown",
   "metadata": {},
   "source": [
    "Soal 7.5\n",
    "Implementasikan kasus UTS anda kedalam sebuah object array seperti halnya program 7.5"
   ]
  },
  {
   "cell_type": "code",
   "execution_count": 19,
   "metadata": {},
   "outputs": [
    {
     "name": "stdout",
     "output_type": "stream",
     "text": [
      "MATKUL Konsep SI\n",
      "NILAI A\n",
      "MATKUL Agama 1\n",
      "NILAI A\n",
      "MATKUL Pend.Anti Korupsi\n",
      "NILAI A\n",
      "MATKUL Bisnis Digital\n",
      "NILAI B\n",
      "MATKUL PBO\n",
      "NILAI B\n",
      "MATKUL Menpro\n",
      "NILAI A\n",
      "MATKUL RPL\n",
      "NILAI A\n",
      "MATKUL Animasi & Multi\n",
      "NILAI A\n",
      "MATKUL STKI\n",
      "NILAI A\n"
     ]
    },
    {
     "data": {
      "text/plain": [
       "null"
      ]
     },
     "execution_count": 19,
     "metadata": {},
     "output_type": "execute_result"
    }
   ],
   "source": [
    "//program 7.5\n",
    "\n",
    " String[][] Siswa = {\n",
    "    {\"Konsep SI\",\"A\"},\n",
    "    {\"Agama 1\",\"A\"},\n",
    "    {\"Pend.Anti Korupsi\",\"A\"},\n",
    "    {\"Bisnis Digital\",\"B\"},\n",
    "    {\"PBO\",\"B\"},\n",
    "    {\"Menpro\",\"A\"},\n",
    "    {\"RPL\",\"A\"},\n",
    "    {\"Animasi & Multi\",\"A\"},\n",
    "    {\"STKI\",\"A\"}\n",
    "};\n",
    "\n",
    "for(int x=0; x < Siswa.length; x++){\n",
    "    System.out.println(\"MATKUL \"+Siswa[x][0]);\n",
    "    System.out.println(\"NILAI \"+Siswa[x][1]);\n",
    "   \n",
    "}"
   ]
  },
  {
   "cell_type": "markdown",
   "metadata": {},
   "source": [
    "C.1 ArrayList"
   ]
  },
  {
   "cell_type": "markdown",
   "metadata": {},
   "source": [
    "Soal 7.6"
   ]
  },
  {
   "cell_type": "code",
   "execution_count": 3,
   "metadata": {},
   "outputs": [
    {
     "name": "stdout",
     "output_type": "stream",
     "text": [
      "[Senter Pembesar, 532, 1231234.132, true]\n",
      "Kantong ajaib berisi 4 item\n"
     ]
    },
    {
     "data": {
      "text/plain": [
       "null"
      ]
     },
     "execution_count": 3,
     "metadata": {},
     "output_type": "execute_result"
    }
   ],
   "source": [
    "//Program 7.6\n",
    "        import java.util.ArrayList;\n",
    "\n",
    "        ArrayList kantongAjaib = new ArrayList();\n",
    "\n",
    "        // Mengisi kantong ajaib dengan 5 benda\n",
    "        kantongAjaib.add(\"Senter Pembesar\");\n",
    "        kantongAjaib.add(532);\n",
    "        kantongAjaib.add(\"tikus\");\n",
    "        kantongAjaib.add(1231234.132);\n",
    "        kantongAjaib.add(true);\n",
    "\n",
    "        // menghapus tikus dari kantong ajaib\n",
    "        kantongAjaib.remove(\"tikus\");\n",
    "\n",
    "        // Menampilkan isi kantong ajaib\n",
    "        System.out.println(kantongAjaib);\n",
    "\n",
    "        // menampilkan banyak isi kantong ajaib\n",
    "        System.out.println(\"Kantong ajaib berisi \"+ kantongAjaib.size() +\" item\");"
   ]
  },
  {
   "cell_type": "markdown",
   "metadata": {},
   "source": [
    "C.2 HashMap"
   ]
  },
  {
   "cell_type": "markdown",
   "metadata": {},
   "source": [
    "Soal 7.7\n",
    "Mengisi Nilai ke HashMap\n",
    "Objek HashMap hari berisi nama-nama hari dengan key 1–7"
   ]
  },
  {
   "cell_type": "code",
   "execution_count": 4,
   "metadata": {},
   "outputs": [
    {
     "name": "stdout",
     "output_type": "stream",
     "text": [
      "Isi objek days: {1=Minggu, 2=Senin, 3=Selasa, 4=Rabu, 5=Kamis, 6=Jum'at, 7=Sabtu}\n"
     ]
    },
    {
     "data": {
      "text/plain": [
       "null"
      ]
     },
     "execution_count": 4,
     "metadata": {},
     "output_type": "execute_result"
    }
   ],
   "source": [
    "import java.util.HashMap;\n",
    "\n",
    "        //Program 7.7\n",
    "\n",
    "        // membuat objek hashmap\n",
    "        HashMap<Integer, String> hari = new HashMap<Integer,String>();\n",
    "\n",
    "        // mengisi nilai ke objek days\n",
    "        hari.put(1, \"Minggu\");\n",
    "        hari.put(2, \"Senin\");\n",
    "        hari.put(3, \"Selasa\");\n",
    "        hari.put(4, \"Rabu\");\n",
    "        hari.put(5, \"Kamis\");\n",
    "        hari.put(6, \"Jum'at\");\n",
    "        hari.put(7, \"Sabtu\");\n",
    "\n",
    "        // mencetak semua isi dari objek days\n",
    "        System.out.println(\"Isi objek days: \" + hari);"
   ]
  },
  {
   "cell_type": "markdown",
   "metadata": {},
   "source": [
    "Soal 7.8   Mengambil Nilai dari HashMap"
   ]
  },
  {
   "cell_type": "code",
   "execution_count": 5,
   "metadata": {},
   "outputs": [
    {
     "name": "stdout",
     "output_type": "stream",
     "text": [
      "Isi objek days: {1=Minggu, 2=Senin, 3=Selasa, 4=Rabu, 5=Kamis, 6=Jum'at, 7=Sabtu}\n",
      "Hari kedua: Senin\n"
     ]
    },
    {
     "data": {
      "text/plain": [
       "null"
      ]
     },
     "execution_count": 5,
     "metadata": {},
     "output_type": "execute_result"
    }
   ],
   "source": [
    "//program 7.8 \n",
    "        import java.util.HashMap;\n",
    "\n",
    "        // membuat objek hashmap\n",
    "        HashMap<Integer, String> harihari = new HashMap<Integer,String>();\n",
    "\n",
    "        // mengisi nilai ke objek hari\n",
    "        harihari.put(1, \"Minggu\");\n",
    "        harihari.put(2, \"Senin\");\n",
    "        harihari.put(3, \"Selasa\");\n",
    "        harihari.put(4, \"Rabu\");\n",
    "        harihari.put(5, \"Kamis\");\n",
    "        harihari.put(6, \"Jum'at\");\n",
    "        harihari.put(7, \"Sabtu\");\n",
    "\n",
    "        // mencetak semua isi dari objek hari\n",
    "        System.out.println(\"Isi objek days: \" + harihari);\n",
    "        // mengambil hari senin\n",
    "        System.out.println(\"Hari kedua: \" + harihari.get(2));"
   ]
  },
  {
   "cell_type": "markdown",
   "metadata": {},
   "source": [
    "Soal 7.9   Menghapus Nilai dari HashMap"
   ]
  },
  {
   "cell_type": "code",
   "execution_count": 6,
   "metadata": {},
   "outputs": [
    {
     "name": "stdout",
     "output_type": "stream",
     "text": [
      "Isi objek days: {1=Minggu, 2=Senin, 3=Selasa, 4=Rabu, 5=Kamis, 6=Jum'at, 7=Sabtu}\n",
      "Hari kedua: Senin\n",
      "Isi objek days: {2=Senin, 3=Selasa, 4=Rabu, 5=Kamis, 6=Jum'at, 7=Sabtu}\n",
      "Isi objek days: {}\n"
     ]
    },
    {
     "data": {
      "text/plain": [
       "null"
      ]
     },
     "execution_count": 6,
     "metadata": {},
     "output_type": "execute_result"
    }
   ],
   "source": [
    "import java.util.HashMap;\n",
    "\n",
    "        //Program 7.9\n",
    "\n",
    "        // membuat objek hashmap\n",
    "        HashMap<Integer, String> days = new HashMap<Integer,String>();\n",
    "\n",
    "        // mengisi nilai ke objek days\n",
    "        days.put(1, \"Minggu\");\n",
    "        days.put(2, \"Senin\");\n",
    "        days.put(3, \"Selasa\");\n",
    "        days.put(4, \"Rabu\");\n",
    "        days.put(5, \"Kamis\");\n",
    "        days.put(6, \"Jum'at\");\n",
    "        days.put(7, \"Sabtu\");\n",
    "\n",
    "        // mencetak semua isi dari objek days\n",
    "        System.out.println(\"Isi objek days: \" + days);\n",
    "        System.out.println(\"Hari kedua: \" + days.get(2));\n",
    "\n",
    "        // menghapus malam minggu <-- jomblo detected :D\n",
    "        days.remove(1);\n",
    "        System.out.println(\"Isi objek days: \" + days);\n",
    "         // menghapus semua hari <-- oh tidak kiamat donk!\n",
    "        days.clear();\n",
    "        System.out.println(\"Isi objek days: \" + days);"
   ]
  },
  {
   "cell_type": "markdown",
   "metadata": {},
   "source": [
    "Soal 7.10  Mengubah Nilai dan Kunci dari HashMap"
   ]
  },
  {
   "cell_type": "code",
   "execution_count": 7,
   "metadata": {},
   "outputs": [
    {
     "name": "stdout",
     "output_type": "stream",
     "text": [
      "Isi objek days: {1=Ahad, 2=Senin, 3=Selasa, 4=Rabo, 5=Kamis, 6=Jum'at, 7=Sabtu}\n"
     ]
    },
    {
     "data": {
      "text/plain": [
       "null"
      ]
     },
     "execution_count": 7,
     "metadata": {},
     "output_type": "execute_result"
    }
   ],
   "source": [
    "import java.util.HashMap;\n",
    "\n",
    "        //program 7.10\n",
    "\n",
    "        // membuat objek hashmap\n",
    "        HashMap<Integer, String> days = new HashMap<Integer,String>();\n",
    "\n",
    "        // mengisi nilai ke objek days\n",
    "        days.put(1, \"Minggu\");\n",
    "        days.put(2, \"Senin\");\n",
    "        days.put(3, \"Selasa\");\n",
    "        days.put(4, \"Rabu\");\n",
    "        days.put(5, \"Kamis\");\n",
    "        days.put(6, \"Jum'at\");\n",
    "        days.put(7, \"Sabtu\");\n",
    "\n",
    "        // mengubah hari menggu menjadi hari ahad\n",
    "        days.put(1, \"Ahad\");\n",
    "\n",
    "        // mengubah hari rabu menjadi rabo\n",
    "        days.replace(4, \"Rabo\");\n",
    "\n",
    "        // mencetak semua isi dari objek days\n",
    "        System.out.println(\"Isi objek days: \" + days);"
   ]
  },
  {
   "cell_type": "markdown",
   "metadata": {},
   "source": [
    "Soal 7.11  Objek dengan HashMap"
   ]
  },
  {
   "cell_type": "code",
   "execution_count": 8,
   "metadata": {},
   "outputs": [
    {
     "data": {
      "text/plain": [
       "com.twosigma.beaker.javash.bkrbe7a6a14.Buku"
      ]
     },
     "execution_count": 8,
     "metadata": {},
     "output_type": "execute_result"
    }
   ],
   "source": [
    "//program 7.11\n",
    "public class Buku {\n",
    "\n",
    "    private String title;\n",
    "    private String author;\n",
    "\n",
    "    public Buku(String title, String author) {\n",
    "        this.title = title;\n",
    "        this.author = author;\n",
    "    }\n",
    "\n",
    "    public String getTitle() {\n",
    "        return title;\n",
    "    }\n",
    "\n",
    "    public void setTitle(String title) {\n",
    "        this.title = title;\n",
    "    }\n",
    "\n",
    "    public String getAuthor() {\n",
    "        return author;\n",
    "    }\n",
    "\n",
    "    public void setAuthor(String author) {\n",
    "        this.author = author;\n",
    "    }\n",
    "\n",
    "}"
   ]
  },
  {
   "cell_type": "code",
   "execution_count": 9,
   "metadata": {},
   "outputs": [
    {
     "name": "stdout",
     "output_type": "stream",
     "text": [
      "java: Tutorial Java\n",
      "android: Pemrograman Android\n",
      "kotlin: Pemrograman Kotlin\n"
     ]
    },
    {
     "data": {
      "text/plain": [
       "null"
      ]
     },
     "execution_count": 9,
     "metadata": {},
     "output_type": "execute_result"
    }
   ],
   "source": [
    "// program 7.12\n",
    "\n",
    "import java.util.HashMap;\n",
    "import java.util.Map;\n",
    "\n",
    "        // membuat objek hashmap\n",
    "        HashMap<String, Buku> books = new HashMap<String, Buku>();\n",
    "\n",
    "        // membuat objek buku\n",
    "        Buku bukuJava = new Buku(\"Tutorial Java\", \"Petani Kode\");\n",
    "        Buku bukuKotlin = new Buku(\"Pemrograman Kotlin\", \"Petani Kode\");\n",
    "        Buku bukuAndroid = new Buku(\"Pemrograman Android\", \"Petani Kode\");\n",
    "\n",
    "        // mengisi objek hashmap dengan objek buku\n",
    "        books.put(\"java\", bukuJava);\n",
    "        books.put(\"kotlin\", bukuKotlin);\n",
    "        books.put(\"android\", bukuAndroid);\n",
    "\n",
    "        // cetak semua buku\n",
    "        for(Map.Entry b: books.entrySet()){\n",
    "            Buku buku = (Buku) b.getValue();\n",
    "            System.out.println(b.getKey() + \": \"+ buku.getTitle());\n",
    "        }"
   ]
  },
  {
   "cell_type": "markdown",
   "metadata": {},
   "source": [
    "Soal Terakhir\n",
    "\n",
    "Implementasikan kasus UTS anda kedalam sebuah object hasmap seperti halnya program 7.11 dan program 7.12\n",
    "\n",
    "aplikasi harus bisa melakukan operasi penambahan\n",
    "aplikasi harus bisa me lakukan operasi penghapusan dari hasmap objek yang anda buat"
   ]
  },
  {
   "cell_type": "code",
   "execution_count": 21,
   "metadata": {},
   "outputs": [
    {
     "data": {
      "text/plain": [
       "com.twosigma.beaker.javash.bkrbe7a6a14.NilaiUTS"
      ]
     },
     "execution_count": 21,
     "metadata": {},
     "output_type": "execute_result"
    }
   ],
   "source": [
    "//program Terakhir\n",
    "public class NilaiUTS {\n",
    "\n",
    "    private String matkul;\n",
    "    private String dosen;\n",
    "\n",
    "    public NilaiUTS(String matkul, String dosen) {\n",
    "        this.matkul = matkul;\n",
    "        this.dosen = dosen;\n",
    "    }\n",
    "\n",
    "    public String getMatkul() {\n",
    "        return matkul;\n",
    "    }\n",
    "\n",
    "    public void setMatkul(String matkul) {\n",
    "        this.matkul = matkul;\n",
    "    }\n",
    "\n",
    "    public String getDosen() {\n",
    "        return dosen;\n",
    "    }\n",
    "\n",
    "    public void setDosen(String dosen) {\n",
    "        this.dosen = dosen;\n",
    "    }\n",
    "\n",
    "}"
   ]
  },
  {
   "cell_type": "code",
   "execution_count": 26,
   "metadata": {},
   "outputs": [
    {
     "name": "stdout",
     "output_type": "stream",
     "text": [
      "Agama: Aris B Thoha\n",
      "PBO: Wahyu Widodo\n",
      "RPL: Suparyanto\n"
     ]
    },
    {
     "data": {
      "text/plain": [
       "null"
      ]
     },
     "execution_count": 26,
     "metadata": {},
     "output_type": "execute_result"
    }
   ],
   "source": [
    "// program 7.12\n",
    "\n",
    "import java.util.HashMap;\n",
    "import java.util.Map;\n",
    "\n",
    "        // membuat objek hashmap\n",
    "        HashMap<String, NilaiUTS> nilai = new HashMap<String, NilaiUTS>();\n",
    "\n",
    "        // membuat objek NilaiUTS\n",
    "        NilaiUTS utsAgama = new NilaiUTS(\"Aris B Thoha\", \"Dosen Kode\");\n",
    "        NilaiUTS utsPBO = new NilaiUTS(\"Wahyu Widodo\", \"Dosen Kode\");\n",
    "        NilaiUTS utsRPL = new NilaiUTS(\"Suparyanto\", \"Dosen Kode\");\n",
    "\n",
    "        // mengisi objek hashmap dengan objek NilaiUTS\n",
    "        nilai.put(\"Agama\", utsAgama);\n",
    "        nilai.put(\"PBO\", utsPBO);\n",
    "        nilai.put(\"RPL\", utsRPL);\n",
    "\n",
    "        // cetak semua NilaiUTS\n",
    "        for(Map.Entry b: nilai.entrySet()){\n",
    "            NilaiUTS uts = (NilaiUTS) b.getValue();\n",
    "            System.out.println(b.getKey() + \": \"+ uts.getMatkul());\n",
    "        }"
   ]
  },
  {
   "cell_type": "markdown",
   "metadata": {},
   "source": [
    "Hamdan Syukron Lillah\n",
    "\n",
    "Selesai"
   ]
  }
 ],
 "metadata": {
  "kernelspec": {
   "display_name": "Java",
   "language": "java",
   "name": "java"
  },
  "language_info": {
   "codemirror_mode": "text/x-java",
   "file_extension": ".java",
   "mimetype": "",
   "name": "Java",
   "nbconverter_exporter": "",
   "version": "1.8.0_121"
  },
  "toc": {
   "base_numbering": 1,
   "nav_menu": {},
   "number_sections": false,
   "sideBar": false,
   "skip_h1_title": false,
   "title_cell": "Table of Contents",
   "title_sidebar": "Contents",
   "toc_cell": false,
   "toc_position": {},
   "toc_section_display": false,
   "toc_window_display": false
  }
 },
 "nbformat": 4,
 "nbformat_minor": 2
}
