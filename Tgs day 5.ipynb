{
 "cells": [
  {
   "cell_type": "markdown",
   "metadata": {},
   "source": [
    "Eksekusilah program 5.1 dan program 5.2 dibawah ini, bagaimanakah hasilnya?"
   ]
  },
  {
   "cell_type": "code",
   "execution_count": 2,
   "metadata": {},
   "outputs": [
    {
     "data": {
      "text/plain": [
       "com.twosigma.beaker.javash.bkr42261f27.Calculator"
      ]
     },
     "execution_count": 2,
     "metadata": {},
     "output_type": "execute_result"
    }
   ],
   "source": [
    "//Program 5.1 pendefinisian class Calculator\n",
    "\n",
    "class Calculator{\n",
    "    //Kompunen attribut\n",
    "    int x;\n",
    "    int y;\n",
    "    int hasil;\n",
    "    \n",
    "   //Kompunen method/fungsi konstruktor\n",
    "\n",
    "   //Kompunen method/fungsi generall\n",
    "\n",
    "}"
   ]
  },
  {
   "cell_type": "code",
   "execution_count": 3,
   "metadata": {},
   "outputs": [
    {
     "name": "stdout",
     "output_type": "stream",
     "text": [
      "Hasil 30\n"
     ]
    },
    {
     "data": {
      "text/plain": [
       "null"
      ]
     },
     "execution_count": 3,
     "metadata": {},
     "output_type": "execute_result"
    }
   ],
   "source": [
    "//Program 5.2 implementasi class\n",
    "\n",
    "Calculator varobjCalculator = new Calculator();\n",
    "varobjCalculator.x = 20;\n",
    "varobjCalculator.y = 10;\n",
    "varobjCalculator.hasil = varobjCalculator.y + varobjCalculator.x;\n",
    "System.out.println(\"Hasil \"+ varobjCalculator.hasil);"
   ]
  },
  {
   "cell_type": "markdown",
   "metadata": {},
   "source": [
    "Eksekusilah program 5.3 dibawah ini."
   ]
  },
  {
   "cell_type": "code",
   "execution_count": 55,
   "metadata": {},
   "outputs": [
    {
     "data": {
      "text/plain": [
       "com.twosigma.beaker.javash.bkr5b9d4965.Calculator"
      ]
     },
     "execution_count": 55,
     "metadata": {},
     "output_type": "execute_result"
    }
   ],
   "source": [
    "class Calculator{\n",
    "    \n",
    "    int x;\n",
    "    int y;\n",
    "    int hasil;\n",
    "}"
   ]
  },
  {
   "cell_type": "code",
   "execution_count": 56,
   "metadata": {},
   "outputs": [
    {
     "name": "stdout",
     "output_type": "stream",
     "text": [
      "Hasil objCalculatorKu 60+20=80\n",
      "Hasil varobjCalculatorMu 40+50= 90\n"
     ]
    },
    {
     "data": {
      "text/plain": [
       "null"
      ]
     },
     "execution_count": 56,
     "metadata": {},
     "output_type": "execute_result"
    }
   ],
   "source": [
    "//Program 5.3 implementasi objek dari suatau class\n",
    "\n",
    "\n",
    "Calculator objCalculatorKu = new Calculator();\n",
    "\n",
    "Calculator objCalculatorMu = new Calculator();\n",
    "\n",
    "objCalculatorKu.x = 60;\n",
    "objCalculatorKu.y = 20;\n",
    "\n",
    "objCalculatorKu.hasil = objCalculatorKu.y + objCalculatorKu.x;\n",
    "System.out.println(\"Hasil objCalculatorKu 60+20=\"+ objCalculatorKu.hasil);\n",
    "\n",
    "objCalculatorMu.x = 40;\n",
    "objCalculatorMu.y = 50;\n",
    "\n",
    "objCalculatorMu.hasil = objCalculatorMu.y + objCalculatorMu.x;\n",
    "System.out.println(\"Hasil varobjCalculatorMu 40+50= \"+ objCalculatorMu.hasil);\n",
    "    "
   ]
  },
  {
   "cell_type": "code",
   "execution_count": 5,
   "metadata": {},
   "outputs": [
    {
     "data": {
      "text/plain": [
       "com.twosigma.beaker.javash.bkr42261f27.Calculator2"
      ]
     },
     "execution_count": 5,
     "metadata": {},
     "output_type": "execute_result"
    }
   ],
   "source": [
    "//Program 5.4 Class Calculator2\n",
    "class Calculator2{\n",
    "\n",
    "    int x;\n",
    "    int y;\n",
    "    int hasil;\n",
    "    \n",
    "    void infoHasil(){\n",
    "      System.out.println(\"Isi atribut hasil : \"+hasil);  \n",
    "    }  \n",
    "\n",
    "}"
   ]
  },
  {
   "cell_type": "code",
   "execution_count": 6,
   "metadata": {},
   "outputs": [
    {
     "name": "stdout",
     "output_type": "stream",
     "text": [
      "Isi atribut hasil : 30\n"
     ]
    },
    {
     "data": {
      "text/plain": [
       "null"
      ]
     },
     "execution_count": 6,
     "metadata": {},
     "output_type": "execute_result"
    }
   ],
   "source": [
    "//Program 5.5 implementasi Class Calculator2\n",
    "Calculator2 varobjCalculator = new Calculator2();\n",
    "varobjCalculator.x = 20;\n",
    "varobjCalculator.y = 10;\n",
    "varobjCalculator.hasil = varobjCalculator.y + varobjCalculator.x;\n",
    "\n",
    "varobjCalculator.infoHasil();;"
   ]
  },
  {
   "cell_type": "markdown",
   "metadata": {},
   "source": [
    "[2] Kompunen Method / Fungsi\n",
    "2.1 Method Tanpa Parameter"
   ]
  },
  {
   "cell_type": "markdown",
   "metadata": {},
   "source": [
    "Implementasi"
   ]
  },
  {
   "cell_type": "code",
   "execution_count": 9,
   "metadata": {},
   "outputs": [
    {
     "data": {
      "text/plain": [
       "com.twosigma.beaker.javash.bkr5b9d4965.Calculator"
      ]
     },
     "execution_count": 9,
     "metadata": {},
     "output_type": "execute_result"
    }
   ],
   "source": [
    "//Program 5.6 Class Calculator3\n",
    "class Calculator{\n",
    "    int x;\n",
    "    int y;\n",
    "    int hasil;\n",
    "\n",
    "  void doTambah(){\n",
    "     System.out.println(\"Operasi Tambah\");  \n",
    "     hasil = x + y;\n",
    "  }    \n",
    "\n",
    "}"
   ]
  },
  {
   "cell_type": "code",
   "execution_count": 10,
   "metadata": {},
   "outputs": [
    {
     "name": "stdout",
     "output_type": "stream",
     "text": [
      "Operasi Tambah\n",
      "Hasil 30\n"
     ]
    },
    {
     "data": {
      "text/plain": [
       "null"
      ]
     },
     "execution_count": 10,
     "metadata": {},
     "output_type": "execute_result"
    }
   ],
   "source": [
    "//Program 5.7 Implementasi Class Calculator2\n",
    "Calculator varobjCalculator = new Calculator();\n",
    "varobjCalculator.x = 20;\n",
    "varobjCalculator.y = 10;\n",
    "varobjCalculator.doTambah();\n",
    "System.out.println(\"Hasil \"+ varobjCalculator.hasil);"
   ]
  },
  {
   "cell_type": "markdown",
   "metadata": {},
   "source": [
    "2.2 Method Dengan Parameter"
   ]
  },
  {
   "cell_type": "code",
   "execution_count": 16,
   "metadata": {},
   "outputs": [
    {
     "data": {
      "text/plain": [
       "com.twosigma.beaker.javash.bkr5b9d4965.Calculator"
      ]
     },
     "execution_count": 16,
     "metadata": {},
     "output_type": "execute_result"
    }
   ],
   "source": [
    "//Program 5.7 Class Calculator4\n",
    "class Calculator{\n",
    "    int x;\n",
    "    int y;\n",
    "    int hasil;\n",
    "\n",
    "  void doTambah(){\n",
    "     System.out.println(\"Operasi Tambah\");  \n",
    "     hasil = x + y;\n",
    "  }   \n",
    "\n",
    "    \n",
    "  void ProsedurHitung(char simbol){\n",
    "     if(simbol == '+'){\n",
    "\n",
    "        this.doTambah();\n",
    "\n",
    "     }      \n",
    "  }  \n",
    "\n",
    "}\n"
   ]
  },
  {
   "cell_type": "code",
   "execution_count": 17,
   "metadata": {},
   "outputs": [
    {
     "name": "stdout",
     "output_type": "stream",
     "text": [
      "Operasi Tambah\n",
      "Hasil 30\n"
     ]
    },
    {
     "data": {
      "text/plain": [
       "null"
      ]
     },
     "execution_count": 17,
     "metadata": {},
     "output_type": "execute_result"
    }
   ],
   "source": [
    "//Program 5.8 Implementasi Class Calculator4\n",
    "Calculator oCalculator = new Calculator();\n",
    "oCalculator.x = 20;\n",
    "oCalculator.y = 10;\n",
    "oCalculator.ProsedurHitung('+');\n",
    "System.out.println(\"Hasil \"+oCalculator.hasil);"
   ]
  },
  {
   "cell_type": "markdown",
   "metadata": {},
   "source": [
    "2.1 Method Dengan Nilai Balik"
   ]
  },
  {
   "cell_type": "code",
   "execution_count": 18,
   "metadata": {},
   "outputs": [
    {
     "data": {
      "text/plain": [
       "com.twosigma.beaker.javash.bkr5b9d4965.Calculator"
      ]
     },
     "execution_count": 18,
     "metadata": {},
     "output_type": "execute_result"
    }
   ],
   "source": [
    "//Program 5.9 Class Calculator5\n",
    "\n",
    "class Calculator{\n",
    "    int x;\n",
    "    int y;\n",
    "    int hasil;\n",
    "\n",
    "  void doTambah(){\n",
    "     System.out.println(\"Operasi Tambah\");  \n",
    "     hasil = x + y;\n",
    "  }   \n",
    "\n",
    "  void prosedurHitung(char simbol){\n",
    "     if(simbol == '+'){\n",
    "\n",
    "        this.doTambah();\n",
    "\n",
    "     }      \n",
    "  }  \n",
    "\n",
    "  int fungsiHitung(char simbol){\n",
    "     if(simbol == '+'){\n",
    "\n",
    "        this.doTambah();\n",
    "\n",
    "     }\n",
    "     return hasil; \n",
    "  }    \n",
    "}"
   ]
  },
  {
   "cell_type": "code",
   "execution_count": 19,
   "metadata": {},
   "outputs": [
    {
     "name": "stdout",
     "output_type": "stream",
     "text": [
      "Operasi Tambah\n",
      "Hasil 30\n"
     ]
    },
    {
     "data": {
      "text/plain": [
       "null"
      ]
     },
     "execution_count": 19,
     "metadata": {},
     "output_type": "execute_result"
    }
   ],
   "source": [
    "//Program 5.10 Implementasi Class Calculator5\n",
    "Calculator oCalculator = new Calculator();\n",
    "oCalculator.x = 20;\n",
    "oCalculator.y = 10;\n",
    "System.out.println(\"Hasil \"+oCalculator.fungsiHitung('+'));"
   ]
  },
  {
   "cell_type": "markdown",
   "metadata": {},
   "source": [
    "[3] Kompunen Konstruktor"
   ]
  },
  {
   "cell_type": "code",
   "execution_count": 21,
   "metadata": {},
   "outputs": [
    {
     "data": {
      "text/plain": [
       "com.twosigma.beaker.javash.bkr5b9d4965.Calculator"
      ]
     },
     "execution_count": 21,
     "metadata": {},
     "output_type": "execute_result"
    }
   ],
   "source": [
    "//Program 5.11 Class Calculator6 dengan konstrukor\n",
    "\n",
    "class Calculator{\n",
    "    int x;\n",
    "    int y;\n",
    "    int hasil;\n",
    "    \n",
    "  Calculator(int varX, int varY){\n",
    "    x = varX;  \n",
    "    y = varY;  \n",
    "  }\n",
    "    \n",
    "  void doTambah(){\n",
    "     System.out.println(\"Operasi Tambah\");  \n",
    "     hasil = x + y;\n",
    "  }   \n",
    "\n",
    "  void prosedurHitung(char simbol){\n",
    "     if(simbol == '+'){\n",
    "         \n",
    "        this.doTambah();\n",
    "         \n",
    "     }      \n",
    "  }  \n",
    "   \n",
    "  int fungsiHitung(char simbol){\n",
    "     if(simbol == '+'){\n",
    "         \n",
    "        this.doTambah();\n",
    "         \n",
    "     }\n",
    "     return hasil; \n",
    "  }    \n",
    "}"
   ]
  },
  {
   "cell_type": "code",
   "execution_count": 22,
   "metadata": {},
   "outputs": [
    {
     "name": "stdout",
     "output_type": "stream",
     "text": [
      "Operasi Tambah\n",
      "Hasil 30\n"
     ]
    },
    {
     "data": {
      "text/plain": [
       "null"
      ]
     },
     "execution_count": 22,
     "metadata": {},
     "output_type": "execute_result"
    }
   ],
   "source": [
    "//Program 5.12 Implementasi Class Calculator6 dengan konstrukor\n",
    "Calculator oCalculator = new Calculator(10,20);\n",
    "System.out.println(\"Hasil \"+oCalculator.fungsiHitung('+'));"
   ]
  },
  {
   "cell_type": "markdown",
   "metadata": {},
   "source": [
    "Mid Test 1"
   ]
  },
  {
   "cell_type": "markdown",
   "metadata": {},
   "source": [
    "Modifikasilah class Calculator5 sehingga memiliki kemampuan/prilaku untuk melakukan operasi aritmetika untuk\n",
    "Pengurangan\n",
    "Perkalian \n",
    "Pembagian"
   ]
  },
  {
   "cell_type": "markdown",
   "metadata": {},
   "source": [
    "Pengurangan"
   ]
  },
  {
   "cell_type": "code",
   "execution_count": 34,
   "metadata": {},
   "outputs": [
    {
     "data": {
      "text/plain": [
       "com.twosigma.beaker.javash.bkr5b9d4965.Calculator"
      ]
     },
     "execution_count": 34,
     "metadata": {},
     "output_type": "execute_result"
    }
   ],
   "source": [
    "class Calculator{\n",
    "    int x;\n",
    "    int y;\n",
    "    int hasil;\n",
    "\n",
    "  void doKurang(){\n",
    "     System.out.println(\"Operasi Kurang\");  \n",
    "     hasil = x - y;\n",
    "  }   \n",
    "\n",
    "  void prosedurHitung(char simbol){\n",
    "     if(simbol == '-'){\n",
    "\n",
    "        this.doKurang();\n",
    "\n",
    "     }      \n",
    "  }  \n",
    "\n",
    "  int fungsiHitung(char simbol){\n",
    "     if(simbol == '-'){\n",
    "\n",
    "        this.doKurang();\n",
    "\n",
    "     }\n",
    "      \n",
    "     return hasil; \n",
    "  }    \n",
    "}"
   ]
  },
  {
   "cell_type": "code",
   "execution_count": 35,
   "metadata": {},
   "outputs": [
    {
     "name": "stdout",
     "output_type": "stream",
     "text": [
      "Operasi Kurang\n",
      "Hasil 10\n"
     ]
    },
    {
     "data": {
      "text/plain": [
       "null"
      ]
     },
     "execution_count": 35,
     "metadata": {},
     "output_type": "execute_result"
    }
   ],
   "source": [
    "Calculator oCalculator = new Calculator();\n",
    "oCalculator.x = 20;\n",
    "oCalculator.y = 10;\n",
    "\n",
    "//Operasi pengurangan\n",
    "System.out.println(\"Hasil \"+oCalculator.fungsiHitung('-'));"
   ]
  },
  {
   "cell_type": "markdown",
   "metadata": {},
   "source": [
    "Perkalian"
   ]
  },
  {
   "cell_type": "code",
   "execution_count": 1,
   "metadata": {},
   "outputs": [
    {
     "data": {
      "text/plain": [
       "com.twosigma.beaker.javash.bkr33395f9d.Calculator"
      ]
     },
     "execution_count": 1,
     "metadata": {},
     "output_type": "execute_result"
    }
   ],
   "source": [
    "class Calculator{\n",
    "    int x;\n",
    "    int y;\n",
    "    int hasil;\n",
    "\n",
    "  void doKali(){\n",
    "     System.out.println(\"Operasi Kali\");  \n",
    "     hasil = x * y;\n",
    "  }   \n",
    "\n",
    "  void prosedurHitung(char simbol){\n",
    "     if(simbol == '*'){\n",
    "\n",
    "        this.doKali();\n",
    "\n",
    "     }      \n",
    "  }  \n",
    "\n",
    "  int fungsiHitung(char simbol){\n",
    "     if(simbol == '*'){\n",
    "\n",
    "        this.doKali();\n",
    "\n",
    "     }\n",
    "      \n",
    "     return hasil; \n",
    "  }    \n",
    "}"
   ]
  },
  {
   "cell_type": "code",
   "execution_count": 2,
   "metadata": {},
   "outputs": [
    {
     "name": "stdout",
     "output_type": "stream",
     "text": [
      "Operasi Kali\n",
      "Hasil 200\n"
     ]
    },
    {
     "data": {
      "text/plain": [
       "null"
      ]
     },
     "execution_count": 2,
     "metadata": {},
     "output_type": "execute_result"
    }
   ],
   "source": [
    "Calculator oCalculator = new Calculator();\n",
    "oCalculator.x = 20;\n",
    "oCalculator.y = 10;\n",
    "\n",
    "//Operasi perkalian\n",
    "System.out.println(\"Hasil \"+oCalculator.fungsiHitung('*'));"
   ]
  },
  {
   "cell_type": "markdown",
   "metadata": {},
   "source": [
    "Pembagian"
   ]
  },
  {
   "cell_type": "code",
   "execution_count": 42,
   "metadata": {},
   "outputs": [
    {
     "data": {
      "text/plain": [
       "com.twosigma.beaker.javash.bkr5b9d4965.Calculator"
      ]
     },
     "execution_count": 42,
     "metadata": {},
     "output_type": "execute_result"
    }
   ],
   "source": [
    "class Calculator{\n",
    "    int x;\n",
    "    int y;\n",
    "    int hasil;\n",
    "\n",
    "  void doBagi(){\n",
    "     System.out.println(\"Operasi Bagi\");  \n",
    "     hasil = x / y;\n",
    "  }   \n",
    "\n",
    "  void prosedurHitung(char simbol){\n",
    "     if(simbol == '/'){\n",
    "\n",
    "        this.doBagi();\n",
    "\n",
    "     }      \n",
    "  }  \n",
    "\n",
    "  int fungsiHitung(char simbol){\n",
    "     if(simbol == '/'){\n",
    "\n",
    "        this.doBagi();\n",
    "\n",
    "     }\n",
    "      \n",
    "     return hasil; \n",
    "  }    \n",
    "}"
   ]
  },
  {
   "cell_type": "code",
   "execution_count": 43,
   "metadata": {},
   "outputs": [
    {
     "name": "stdout",
     "output_type": "stream",
     "text": [
      "Operasi Bagi\n",
      "Hasil 2\n"
     ]
    },
    {
     "data": {
      "text/plain": [
       "null"
      ]
     },
     "execution_count": 43,
     "metadata": {},
     "output_type": "execute_result"
    }
   ],
   "source": [
    "Calculator oCalculator = new Calculator();\n",
    "oCalculator.x = 20;\n",
    "oCalculator.y = 10;\n",
    "\n",
    "//Operasi pembagian\n",
    "System.out.println(\"Hasil \"+oCalculator.fungsiHitung('/'));"
   ]
  },
  {
   "cell_type": "markdown",
   "metadata": {},
   "source": [
    "Mid Test 6.2"
   ]
  },
  {
   "cell_type": "markdown",
   "metadata": {},
   "source": [
    "Lakukan eksekusi dari program Program 5.13, lakukan bux fix jika terdapat kesalahan dari program tersebut, sehingga implementasi dari Program 5.13 dapat berjalan"
   ]
  },
  {
   "cell_type": "code",
   "execution_count": 61,
   "metadata": {},
   "outputs": [
    {
     "data": {
      "text/plain": [
       "com.twosigma.beaker.javash.bkr5b9d4965.Calculator"
      ]
     },
     "execution_count": 61,
     "metadata": {},
     "output_type": "execute_result"
    }
   ],
   "source": [
    "//Program 5.9 Class Calculator5\n",
    "\n",
    "class Calculator{\n",
    "    int x;\n",
    "    int y;\n",
    "    int hasil;\n",
    "\n",
    "  void doTambah(){\n",
    "     System.out.println(\"Operasi Tambah\");  \n",
    "     hasil = x + y;\n",
    "  }   \n",
    "\n",
    "  void prosedurHitung(char simbol){\n",
    "     if(simbol == '+'){\n",
    "\n",
    "        this.doTambah();\n",
    "\n",
    "     }      \n",
    "  }  \n",
    "\n",
    "  int fungsiHitung(char simbol){\n",
    "     if(simbol == '+'){\n",
    "\n",
    "        this.doTambah();\n",
    "\n",
    "     }\n",
    "     return hasil; \n",
    "  }    \n",
    "}"
   ]
  },
  {
   "cell_type": "code",
   "execution_count": 62,
   "metadata": {},
   "outputs": [
    {
     "name": "stdout",
     "output_type": "stream",
     "text": [
      "Operasi Tambah\n",
      "Hasil 30\n"
     ]
    },
    {
     "data": {
      "text/plain": [
       "null"
      ]
     },
     "execution_count": 62,
     "metadata": {},
     "output_type": "execute_result"
    }
   ],
   "source": [
    "//Program 5.13 Implementasi Class Calculator6 dengan konstrukor\n",
    "Calculator oCalculator = new Calculator();\n",
    "oCalculator.x = 20;\n",
    "oCalculator.y = 10;\n",
    "System.out.println(\"Hasil \"+oCalculator.fungsiHitung('+'));"
   ]
  },
  {
   "cell_type": "markdown",
   "metadata": {},
   "source": [
    "Hamdan Syukron lillah\n",
    "\n",
    "selesai"
   ]
  }
 ],
 "metadata": {
  "kernelspec": {
   "display_name": "Java",
   "language": "java",
   "name": "java"
  },
  "language_info": {
   "codemirror_mode": "text/x-java",
   "file_extension": ".java",
   "mimetype": "",
   "name": "Java",
   "nbconverter_exporter": "",
   "version": "1.8.0_121"
  },
  "toc": {
   "base_numbering": 1,
   "nav_menu": {},
   "number_sections": false,
   "sideBar": false,
   "skip_h1_title": false,
   "title_cell": "Table of Contents",
   "title_sidebar": "Contents",
   "toc_cell": false,
   "toc_position": {},
   "toc_section_display": false,
   "toc_window_display": false
  }
 },
 "nbformat": 4,
 "nbformat_minor": 2
}
