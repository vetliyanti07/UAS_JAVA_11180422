{
 "cells": [
  {
   "cell_type": "markdown",
   "metadata": {},
   "source": [
    "3.A Self-test Questions"
   ]
  },
  {
   "cell_type": "markdown",
   "metadata": {},
   "source": [
    "Soal 3.A1"
   ]
  },
  {
   "cell_type": "markdown",
   "metadata": {},
   "source": [
    "Jelaskan perbedaannya sequence and selection dalam control process?"
   ]
  },
  {
   "cell_type": "markdown",
   "metadata": {},
   "source": [
    "Jawab\n",
    "Sequencing: Ini berarti bahwa komputer akan menjalankan kode secara berurutan, satu demi satu baris dari atas ke bawah program Anda. Ini akan mulai pada baris 1, kemudian jalankan baris 2 lalu baris 3 dan seterusnya hingga mencapai baris terakhir dari program.\n",
    "\n",
    "Pilihan: Kadang-kadang hanya ingin beberapa baris kode dijalankan hanya jika suatu kondisi terpenuhi, jika tidak ingin komputer mengabaikan garis-garis ini dan melompati mereka. Ini dicapai dengan menggunakan pernyataan IF. misalnya Jika suatu kondisi terpenuhi maka baris 4, 5, 6 dijalankan jika tidak, komputer melompat ke baris 7 tanpa melihat baris 4,5 dan 6."
   ]
  },
  {
   "cell_type": "markdown",
   "metadata": {},
   "source": [
    "Soal 3.A2."
   ]
  },
  {
   "cell_type": "markdown",
   "metadata": {},
   "source": [
    "[a] type data apakan yang tepat intuk variable price?\n",
    "jawab : integer"
   ]
  },
  {
   "cell_type": "markdown",
   "metadata": {},
   "source": [
    " jika variable age diisikan nilai 11 bagaimanakah keluaran program tersebut?"
   ]
  },
  {
   "cell_type": "code",
   "execution_count": 3,
   "metadata": {},
   "outputs": [
    {
     "name": "stdout",
     "output_type": "stream",
     "text": [
      "Umur penonton : 11Ticket price = 10.0\n"
     ]
    },
    {
     "data": {
      "text/plain": [
       "null"
      ]
     },
     "execution_count": 3,
     "metadata": {},
     "output_type": "execute_result"
    }
   ],
   "source": [
    "double price;\n",
    "price = 10.00; \n",
    "int age; \n",
    "age = 11;\n",
    "System.out.print(\"Umur penonton : \"+age); \n",
    "// code to reduce ticket price for children goes here \n",
    "System.out.println(\"Ticket price = \" + price);"
   ]
  },
  {
   "cell_type": "code",
   "execution_count": null,
   "metadata": {},
   "outputs": [],
   "source": [
    "[b] Ubahlah program tersebut sehingga anak-anak di bawah usia 14 mendapatkan tiket setengah harga."
   ]
  },
  {
   "cell_type": "code",
   "execution_count": 9,
   "metadata": {},
   "outputs": [
    {
     "name": "stdout",
     "output_type": "stream",
     "text": [
      "Umur penonton : 10Ticket price = 5.0\n"
     ]
    },
    {
     "data": {
      "text/plain": [
       "null"
      ]
     },
     "execution_count": 9,
     "metadata": {},
     "output_type": "execute_result"
    }
   ],
   "source": [
    "double price;\n",
    "price = 10.00 / 2; \n",
    "int age; \n",
    "age = 10;\n",
    "System.out.print(\"Umur penonton : \"+age); \n",
    "// code to reduce ticket price for children goes here \n",
    "System.out.println(\"Ticket price = \" + price);"
   ]
  },
  {
   "cell_type": "markdown",
   "metadata": {},
   "source": [
    "Soal 3.A3."
   ]
  },
  {
   "cell_type": "markdown",
   "metadata": {},
   "source": [
    "[a] jika variable x diisikan 10?"
   ]
  },
  {
   "cell_type": "code",
   "execution_count": 6,
   "metadata": {},
   "outputs": [
    {
     "name": "stdout",
     "output_type": "stream",
     "text": [
      "Blue\n",
      "Red\n"
     ]
    },
    {
     "data": {
      "text/plain": [
       "null"
      ]
     },
     "execution_count": 6,
     "metadata": {},
     "output_type": "execute_result"
    }
   ],
   "source": [
    "int x; \n",
    "x = 10; \n",
    " if (x > 10) { \n",
    "   System.out.println(\"Green\"); \n",
    " }else{ \n",
    "   System.out.println(\"Blue\"); \n",
    "  } \n",
    "\n",
    " System.out.println(\"Red\");"
   ]
  },
  {
   "cell_type": "markdown",
   "metadata": {},
   "source": [
    "[b] jika variable x diisikan 20?"
   ]
  },
  {
   "cell_type": "code",
   "execution_count": 7,
   "metadata": {},
   "outputs": [
    {
     "name": "stdout",
     "output_type": "stream",
     "text": [
      "Green\n",
      "Red\n"
     ]
    },
    {
     "data": {
      "text/plain": [
       "null"
      ]
     },
     "execution_count": 7,
     "metadata": {},
     "output_type": "execute_result"
    }
   ],
   "source": [
    "int x; \n",
    "x = 20; \n",
    " if (x > 10) { \n",
    "   System.out.println(\"Green\"); \n",
    " }else{ \n",
    "   System.out.println(\"Blue\"); \n",
    "  } \n",
    "\n",
    " System.out.println(\"Red\");"
   ]
  },
  {
   "cell_type": "markdown",
   "metadata": {},
   "source": [
    "Soal 3.A4."
   ]
  },
  {
   "cell_type": "markdown",
   "metadata": {},
   "source": [
    "[a] jika variable y diisikan 1?"
   ]
  },
  {
   "cell_type": "code",
   "execution_count": 8,
   "metadata": {},
   "outputs": [
    {
     "name": "stdout",
     "output_type": "stream",
     "text": [
      "Green\n",
      "Red\n"
     ]
    },
    {
     "data": {
      "text/plain": [
       "null"
      ]
     },
     "execution_count": 8,
     "metadata": {},
     "output_type": "execute_result"
    }
   ],
   "source": [
    "int y; \n",
    "\n",
    "y = 1; \n",
    "\n",
    "switch (y) \n",
    " { case 1: \n",
    "   case 2: \n",
    "   System.out.println(\"Green\"); break; \n",
    "   case 3: \n",
    "   case 4: \n",
    "   case 5: System.out.println(\"Blue\"); break; \n",
    "   default: System.out.println(\"numbers 1-5 only\"); \n",
    "  } \n",
    " System.out.println(\"Red\");"
   ]
  },
  {
   "cell_type": "markdown",
   "metadata": {},
   "source": [
    "[b] jika variable y diisikan 2?"
   ]
  },
  {
   "cell_type": "code",
   "execution_count": 9,
   "metadata": {},
   "outputs": [
    {
     "name": "stdout",
     "output_type": "stream",
     "text": [
      "Green\n",
      "Red\n"
     ]
    },
    {
     "data": {
      "text/plain": [
       "null"
      ]
     },
     "execution_count": 9,
     "metadata": {},
     "output_type": "execute_result"
    }
   ],
   "source": [
    "int y; \n",
    "\n",
    "y = 2; \n",
    "\n",
    "switch (y) \n",
    " { case 1: \n",
    "   case 2: \n",
    "   System.out.println(\"Green\"); break; \n",
    "   case 3: \n",
    "   case 4: \n",
    "   case 5: System.out.println(\"Blue\"); break; \n",
    "   default: System.out.println(\"numbers 1-5 only\"); \n",
    "  } \n",
    " System.out.println(\"Red\");"
   ]
  },
  {
   "cell_type": "markdown",
   "metadata": {},
   "source": [
    "[c] jika variable y diisikan 3?"
   ]
  },
  {
   "cell_type": "code",
   "execution_count": 10,
   "metadata": {},
   "outputs": [
    {
     "name": "stdout",
     "output_type": "stream",
     "text": [
      "Blue\n",
      "Red\n"
     ]
    },
    {
     "data": {
      "text/plain": [
       "null"
      ]
     },
     "execution_count": 10,
     "metadata": {},
     "output_type": "execute_result"
    }
   ],
   "source": [
    "int y; \n",
    "\n",
    "y = 3; \n",
    "\n",
    "switch (y) \n",
    " { case 1: \n",
    "   case 2: \n",
    "   System.out.println(\"Green\"); break; \n",
    "   case 3: \n",
    "   case 4: \n",
    "   case 5: System.out.println(\"Blue\"); break; \n",
    "   default: System.out.println(\"numbers 1-5 only\"); \n",
    "  } \n",
    " System.out.println(\"Red\");"
   ]
  },
  {
   "cell_type": "markdown",
   "metadata": {},
   "source": [
    "\n",
    "[d] jika variable y diisikan 10?"
   ]
  },
  {
   "cell_type": "code",
   "execution_count": 11,
   "metadata": {},
   "outputs": [
    {
     "name": "stdout",
     "output_type": "stream",
     "text": [
      "numbers 1-5 only\n",
      "Red\n"
     ]
    },
    {
     "data": {
      "text/plain": [
       "null"
      ]
     },
     "execution_count": 11,
     "metadata": {},
     "output_type": "execute_result"
    }
   ],
   "source": [
    "int y; \n",
    "\n",
    "y = 10; \n",
    "\n",
    "switch (y) \n",
    " { case 1: \n",
    "   case 2: \n",
    "   System.out.println(\"Green\"); break; \n",
    "   case 3: \n",
    "   case 4: \n",
    "   case 5: System.out.println(\"Blue\"); break; \n",
    "   default: System.out.println(\"numbers 1-5 only\"); \n",
    "  } \n",
    " System.out.println(\"Red\");"
   ]
  },
  {
   "cell_type": "markdown",
   "metadata": {},
   "source": [
    "[e] Jika statements break dihapus dari seleksi switch dan variable y diisikan 3?"
   ]
  },
  {
   "cell_type": "code",
   "execution_count": 12,
   "metadata": {},
   "outputs": [
    {
     "name": "stdout",
     "output_type": "stream",
     "text": [
      "Blue\n",
      "numbers 1-5 only\n",
      "Red\n"
     ]
    },
    {
     "data": {
      "text/plain": [
       "null"
      ]
     },
     "execution_count": 12,
     "metadata": {},
     "output_type": "execute_result"
    }
   ],
   "source": [
    "int y; \n",
    "\n",
    "y = 3; \n",
    "\n",
    "switch (y) \n",
    " { case 1: \n",
    "   case 2: \n",
    "   System.out.println(\"Green\");\n",
    "   case 3: \n",
    "   case 4: \n",
    "   case 5: System.out.println(\"Blue\"); \n",
    "   default: System.out.println(\"numbers 1-5 only\"); \n",
    "  } \n",
    " System.out.println(\"Red\");"
   ]
  },
  {
   "cell_type": "markdown",
   "metadata": {},
   "source": [
    "[f] Jika statements default dihapus dari seleksi switch dan variable y diisikan 10?"
   ]
  },
  {
   "cell_type": "code",
   "execution_count": 13,
   "metadata": {},
   "outputs": [
    {
     "name": "stdout",
     "output_type": "stream",
     "text": [
      "Red\n"
     ]
    },
    {
     "data": {
      "text/plain": [
       "null"
      ]
     },
     "execution_count": 13,
     "metadata": {},
     "output_type": "execute_result"
    }
   ],
   "source": [
    "int y; \n",
    "\n",
    "y = 10; \n",
    "\n",
    "switch (y) \n",
    " { case 1: \n",
    "   case 2: \n",
    "   System.out.println(\"Green\");\n",
    "   case 3: \n",
    "   case 4: \n",
    "   case 5: System.out.println(\"Blue\");  \n",
    "  } \n",
    " System.out.println(\"Red\");"
   ]
  },
  {
   "cell_type": "markdown",
   "metadata": {},
   "source": [
    "Soal 3.A5."
   ]
  },
  {
   "cell_type": "code",
   "execution_count": 14,
   "metadata": {},
   "outputs": [
    {
     "name": "stdout",
     "output_type": "stream",
     "text": [
      "YES 1\n",
      "YES 2\n",
      "YES 3\n",
      "YES 4\n",
      "OK\n"
     ]
    },
    {
     "data": {
      "text/plain": [
       "null"
      ]
     },
     "execution_count": 14,
     "metadata": {},
     "output_type": "execute_result"
    }
   ],
   "source": [
    "//program ulang1\n",
    " for(int i = 1; i <= 4; i++) \n",
    " { \n",
    "   System.out.println(\"YES \"+i);  \n",
    " } \n",
    " System.out.println(\"OK\");"
   ]
  },
  {
   "cell_type": "markdown",
   "metadata": {},
   "source": [
    "[1] berapa kalikah pesan \"YES\" akan ditampilkan\n",
    "jawab : YES ada 4 kali"
   ]
  },
  {
   "cell_type": "markdown",
   "metadata": {},
   "source": [
    "[2] apakah output dari program tersebut?\n",
    "JAWAB : Outputnya\n",
    "YES 1\n",
    "YES 2\n",
    "YES 3\n",
    "YES 4\n",
    "OK\n",
    "\n",
    "out : null"
   ]
  },
  {
   "cell_type": "code",
   "execution_count": 16,
   "metadata": {},
   "outputs": [
    {
     "name": "stdout",
     "output_type": "stream",
     "text": [
      "OK\n"
     ]
    },
    {
     "data": {
      "text/plain": [
       "null"
      ]
     },
     "execution_count": 16,
     "metadata": {},
     "output_type": "execute_result"
    }
   ],
   "source": [
    "//program ulang2\n",
    " for(int j = 12; j < 3; j--) \n",
    " { \n",
    "   System.out.println(\"YES  \"+j);  \n",
    " } \n",
    "System.out.println(\"OK\");"
   ]
  },
  {
   "cell_type": "markdown",
   "metadata": {},
   "source": [
    "[3] berapa kalikah pesan \"YES\" akan ditampilkan\n",
    "jawab : tidak ada"
   ]
  },
  {
   "cell_type": "markdown",
   "metadata": {},
   "source": [
    "[4] apakah output dari program tersebut?\n",
    "OK"
   ]
  },
  {
   "cell_type": "markdown",
   "metadata": {},
   "source": [
    "[5] Berikanlah penjelasan perbedaaan dari kedua program program ulang1 dan ulang2 tersebut diatas\n",
    "\n",
    "Program ulang 1 jika diinputkan angka yang kurang dari sama dengan 4 maka hasil outputnya YES , Jika angka yang diinputkan lebih dari 4 hasil outputnya OK\n",
    "\n",
    "Program ulang 2 jika diinputkan angka yang kurang dari 3 maka YES tidak muncul , Jika angka yang diinputkan sama dengan 12 hasil ouputnya OK"
   ]
  },
  {
   "cell_type": "markdown",
   "metadata": {},
   "source": [
    "Soal 3.A6."
   ]
  },
  {
   "cell_type": "markdown",
   "metadata": {},
   "source": [
    "Berdasarkan program forif1 dan forif2 berikut ini apakah yang menjadi output dari dua program berikut?"
   ]
  },
  {
   "cell_type": "code",
   "execution_count": 17,
   "metadata": {},
   "outputs": [
    {
     "name": "stdout",
     "output_type": "stream",
     "text": [
      "1\n",
      "2\n",
      "3\n",
      "4\n",
      "5\n",
      "6\n",
      "7\n",
      "8\n",
      "9\n",
      "10\n"
     ]
    },
    {
     "data": {
      "text/plain": [
       "null"
      ]
     },
     "execution_count": 17,
     "metadata": {},
     "output_type": "execute_result"
    }
   ],
   "source": [
    "//program forif1\n",
    "    for(int l=1; l<=10; l++)  \n",
    "    { if (l > 5)   \n",
    "      { break;   } \n",
    "        System.out.println(l);  \n",
    "    }\n",
    "//program forif2\n",
    "    for(int i=1; i<=10; i++)  \n",
    "    { if (i <= 5){ continue; } \n",
    "    System.out.println(i);}"
   ]
  },
  {
   "cell_type": "markdown",
   "metadata": {},
   "source": [
    "3.B Self-test Questions"
   ]
  },
  {
   "cell_type": "markdown",
   "metadata": {},
   "source": [
    "Soal 3.B1."
   ]
  },
  {
   "cell_type": "markdown",
   "metadata": {},
   "source": [
    "Rancanglah dan implementasikan program yang membandingkan dua angka dan kemudian menampilkan pesan “NUMBERS ARE EQUAL”, jika dua angka tersebut sama dan pesan “NUMBERS ARE NOT EQUAL”, jika kedua angka tersebut tidak sama. [jangan lupa untuk menggunakan double sama dengan (= =) untuk menguji kesetaraan (equality)"
   ]
  },
  {
   "cell_type": "markdown",
   "metadata": {},
   "source": [
    "Soal 3.B3."
   ]
  },
  {
   "cell_type": "markdown",
   "metadata": {},
   "source": [
    "Jelaskan kapan waktu yang tepat untuk penggunaan\n",
    "\n",
    "pernyataan if?\n",
    "pernyataan if… else?\n",
    "pernyataan switch?"
   ]
  },
  {
   "cell_type": "markdown",
   "metadata": {},
   "source": [
    "Jawab\n",
    "Switch= kondisi ini hanya dinyatakan dengan bilangan bulat atau karakter,\n",
    "sedangkan IF-ELSE dapat menggunakan operasi seperti <, >, <= dan >="
   ]
  },
  {
   "cell_type": "markdown",
   "metadata": {},
   "source": [
    "Soal 3.B4."
   ]
  },
  {
   "cell_type": "markdown",
   "metadata": {},
   "source": [
    "Rubahlah program forif1 dan forif2 dalam 3.A Self-test Questions soal Soal 3.A6. menggunakan bentuk perulangan while dan do..while"
   ]
  },
  {
   "cell_type": "markdown",
   "metadata": {},
   "source": [
    "jawab\n",
    "//program forif1\n",
    "public class dowhile\n",
    "    {\n",
    "    for(int l=1; l<=10; l++)     \n",
    "      { break;\n",
    "       while{ if (l > 5){\n",
    "        System.out.println(l);  \n",
    "    }\n",
    "   \n",
    "    \n",
    "    \n",
    "//program forif2\n",
    "public class DoWhile \n",
    "    {\n",
    "    for(int i=1; i<=10; i++)  \n",
    "    { if (i <= 5){ continue;\n",
    "    do{\n",
    "    System.out.println(i);}\n",
    "    while if (i <= 5);\n",
    "    }"
   ]
  }
 ],
 "metadata": {
  "kernelspec": {
   "display_name": "Java",
   "language": "java",
   "name": "java"
  },
  "language_info": {
   "codemirror_mode": "text/x-java",
   "file_extension": ".java",
   "mimetype": "",
   "name": "Java",
   "nbconverter_exporter": "",
   "version": "1.8.0_121"
  },
  "toc": {
   "base_numbering": 1,
   "nav_menu": {},
   "number_sections": false,
   "sideBar": false,
   "skip_h1_title": false,
   "title_cell": "Table of Contents",
   "title_sidebar": "Contents",
   "toc_cell": false,
   "toc_position": {},
   "toc_section_display": false,
   "toc_window_display": false
  }
 },
 "nbformat": 4,
 "nbformat_minor": 2
}
