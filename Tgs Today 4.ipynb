{
 "cells": [
  {
   "cell_type": "code",
   "execution_count": 4,
   "metadata": {},
   "outputs": [
    {
     "name": "stdout",
     "output_type": "stream",
     "text": [
      "Tinggi indeks ke-0 adalah 3\n",
      "Tinggi indeks ke-1 adalah 6\n",
      "Tinggi indeks ke-2 adalah 3\n"
     ]
    },
    {
     "data": {
      "text/plain": [
       "null"
      ]
     },
     "execution_count": 4,
     "metadata": {},
     "output_type": "execute_result"
    }
   ],
   "source": [
    "//Program 4.1  \n",
    "   int[] tinggi; //deklarasi\n",
    "   tinggi = new int[3]; //inisiasi\n",
    "   tinggi[0] = 3;  \n",
    "   tinggi[1] = 6;\n",
    "   tinggi[2] = 3;\n",
    "   \n",
    "   for(int i=0;i<tinggi.length;i++) {\n",
    "       System.out.println(\"Tinggi indeks ke-\"+i+\" adalah \"+tinggi[i]);\n",
    "   }"
   ]
  },
  {
   "cell_type": "markdown",
   "metadata": {},
   "source": [
    "Tugas 4.1"
   ]
  },
  {
   "cell_type": "code",
   "execution_count": 3,
   "metadata": {},
   "outputs": [
    {
     "name": "stdout",
     "output_type": "stream",
     "text": [
      "Tinggi indeks ke-0 adalah 3\n",
      "Tinggi indeks ke-1 adalah 6\n",
      "Tinggi indeks ke-2 adalah 3\n"
     ]
    },
    {
     "data": {
      "text/plain": [
       "null"
      ]
     },
     "execution_count": 3,
     "metadata": {},
     "output_type": "execute_result"
    }
   ],
   "source": [
    "//Program 4.1  \n",
    "   int[] tinggi; //deklarasi\n",
    "   tinggi = new int [] {3,6,3}; //inisiasi\n",
    "   tinggi[0] = 3;  \n",
    "   tinggi[1] = 6;\n",
    "   tinggi[2] = 3;\n",
    "   \n",
    "   for(int i=0;i<tinggi.length;i++) {\n",
    "       System.out.println(\"Tinggi indeks ke-\"+i+\" adalah \"+tinggi[i]);\n",
    "   }"
   ]
  },
  {
   "cell_type": "markdown",
   "metadata": {},
   "source": [
    "kesimpulan : Hasilnya tetap sama "
   ]
  },
  {
   "cell_type": "markdown",
   "metadata": {},
   "source": [
    "Tugas 4.2"
   ]
  },
  {
   "cell_type": "markdown",
   "metadata": {},
   "source": [
    "[a] Menampilkan indeks yang memiliki nilai 3"
   ]
  },
  {
   "cell_type": "code",
   "execution_count": 7,
   "metadata": {},
   "outputs": [
    {
     "name": "stdout",
     "output_type": "stream",
     "text": [
      "Tinggi indeks ke-0 adalah 3\n",
      "Tinggi indeks ke-1 adalah 3\n"
     ]
    },
    {
     "data": {
      "text/plain": [
       "null"
      ]
     },
     "execution_count": 7,
     "metadata": {},
     "output_type": "execute_result"
    }
   ],
   "source": [
    "\n",
    "   int[] tinggi; //deklarasi\n",
    "   tinggi = new int[2]; //inisiasi\n",
    "   tinggi[0] = 3;\n",
    "   tinggi[1] = 3;\n",
    "   \n",
    "   for(int i=0;i<tinggi.length;i++) {\n",
    "       System.out.println(\"Tinggi indeks ke-\"+i+\" adalah \"+tinggi[i]);\n",
    "   }"
   ]
  },
  {
   "cell_type": "markdown",
   "metadata": {},
   "source": [
    "[b] Menampilkan nilai pada indeks: 2"
   ]
  },
  {
   "cell_type": "code",
   "execution_count": 9,
   "metadata": {},
   "outputs": [
    {
     "name": "stdout",
     "output_type": "stream",
     "text": [
      "Tinggi indeks adalah 2\n"
     ]
    },
    {
     "data": {
      "text/plain": [
       "null"
      ]
     },
     "execution_count": 9,
     "metadata": {},
     "output_type": "execute_result"
    }
   ],
   "source": [
    "//Program 4.1  \n",
    "   int[] tinggi; //deklarasi\n",
    "   tinggi = new int[1]; //inisiasi\n",
    "   tinggi[0] = 2;\n",
    "   \n",
    "   for(int i=0;i<tinggi.length;i++) {\n",
    "       System.out.println(\"Tinggi indeks adalah \"+tinggi[i]);\n",
    "   }"
   ]
  },
  {
   "cell_type": "markdown",
   "metadata": {},
   "source": [
    "Tugas 4.3"
   ]
  },
  {
   "cell_type": "markdown",
   "metadata": {},
   "source": [
    "Modifikasi Tugas 4.2, ganti loop-nya dengan for..each."
   ]
  },
  {
   "cell_type": "code",
   "execution_count": 10,
   "metadata": {},
   "outputs": [
    {
     "name": "stdout",
     "output_type": "stream",
     "text": [
      "Tinggi adalah = 3\n",
      "Tinggi adalah = 6\n",
      "Tinggi adalah = 3\n",
      "Tinggi adalah = 3\n",
      "Tinggi adalah = 6\n",
      "Tinggi adalah = 3\n",
      "Tinggi adalah = 3\n",
      "Tinggi adalah = 6\n",
      "Tinggi adalah = 3\n"
     ]
    },
    {
     "data": {
      "text/plain": [
       "null"
      ]
     },
     "execution_count": 10,
     "metadata": {},
     "output_type": "execute_result"
    }
   ],
   "source": [
    "//Program 4.2   \n",
    "   int[] tinggi;\n",
    "   tinggi = new int[3];\n",
    "   tinggi[0] = 3;  \n",
    "   tinggi[1] = 6;\n",
    "   tinggi[2] = 3;\n",
    "   \n",
    "   for (int x : tinggi ) {\n",
    "       for (int y : tinggi) {\n",
    "           System.out.println(\"Tinggi adalah = \"+y);\n",
    "   }\n",
    "}"
   ]
  },
  {
   "cell_type": "markdown",
   "metadata": {},
   "source": [
    "Tugas 4.4"
   ]
  },
  {
   "cell_type": "code",
   "execution_count": 13,
   "metadata": {},
   "outputs": [
    {
     "name": "stdout",
     "output_type": "stream",
     "text": [
      "Sebelum menggunakan Array sort\n",
      "5 6 3 \n",
      "Setelah menggunakan Array sort\n",
      "3 \n",
      "5 \n",
      "6 \n"
     ]
    },
    {
     "data": {
      "text/plain": [
       "null"
      ]
     },
     "execution_count": 13,
     "metadata": {},
     "output_type": "execute_result"
    }
   ],
   "source": [
    "//Program 4.3 \n",
    "import java.util.Arrays;\n",
    "\n",
    "\n",
    "   int [] tinggi = {5,6,3};\n",
    "\n",
    "    System.out.println(\"Sebelum menggunakan Array sort\");\n",
    "\n",
    "    for(int n : tinggi) {\n",
    "       System.out.print(n+ \" \");\n",
    "   }\n",
    "     Arrays.sort(tinggi);\n",
    "    \n",
    "    System.out.println(\"\\nSetelah menggunakan Array sort\");\n",
    "\n",
    "   for(int n : tinggi) {\n",
    "       System.out.println(n+ \" \");\n",
    "   }"
   ]
  },
  {
   "cell_type": "markdown",
   "metadata": {},
   "source": [
    "Tugas 4.5"
   ]
  },
  {
   "cell_type": "markdown",
   "metadata": {},
   "source": [
    "Modifikasi Program 4.4, ganti inisiasi menjadi lebih ringkas seperti syntax diatas"
   ]
  },
  {
   "cell_type": "code",
   "execution_count": 14,
   "metadata": {},
   "outputs": [
    {
     "name": "stdout",
     "output_type": "stream",
     "text": [
      "Nilai = 0.0\n",
      "Nilai = 1.0\n",
      "Nilai = 2.0\n",
      "Nilai = 3.0\n"
     ]
    },
    {
     "data": {
      "text/plain": [
       "null"
      ]
     },
     "execution_count": 14,
     "metadata": {},
     "output_type": "execute_result"
    }
   ],
   "source": [
    "//Program 4.4\n",
    "    double[][] matriks = {{0,1},{2,3}};  // 2 x 2\n",
    "   \n",
    "\n",
    "   for(double[] baris:matriks) {\n",
    "       for (double val:baris) {\n",
    "         System.out.println(\"Nilai = \"+val);  \n",
    "       }\n",
    "   }"
   ]
  },
  {
   "cell_type": "markdown",
   "metadata": {},
   "source": [
    "Tugas 4.6"
   ]
  },
  {
   "cell_type": "markdown",
   "metadata": {},
   "source": [
    "Buatlah program penjumlahan dua matriks [4 x 4]. Program menampilkan matriks pertama, kedua dan hasil penjumlahan kedua matriks."
   ]
  },
  {
   "cell_type": "code",
   "execution_count": 18,
   "metadata": {},
   "outputs": [
    {
     "name": "stdout",
     "output_type": "stream",
     "text": [
      "Masukkan Matriks A\n",
      "[1][1]:1\n",
      "[1][2]:3\n",
      "[1][3]:4\n",
      "[1][4]:5\n",
      "[2][1]:3\n",
      "[2][2]:2\n",
      "[2][3]:5\n",
      "[2][4]:6\n",
      "[3][1]:5\n",
      "[3][2]:1\n",
      "[3][3]:6\n",
      "[3][4]:1\n",
      "[4][1]:3\n",
      "[4][2]:4\n",
      "[4][3]:3\n",
      "[4][4]:2\n",
      "Masukkan Matriks B\n",
      "[1][1]:3\n",
      "[1][2]:2\n",
      "[1][3]:4\n",
      "[1][4]:1\n",
      "[2][1]:2\n",
      "[2][2]:1\n",
      "[2][3]:4\n",
      "[2][4]:2\n",
      "[3][1]:3\n",
      "[3][2]:4\n",
      "[3][3]:5\n",
      "[3][4]:1\n",
      "[4][1]:5\n",
      "[4][2]:2\n",
      "[4][3]:3\n",
      "[4][4]:2\n",
      "Matriks A\n",
      "1 3 4 5  \n",
      "3 2 5 6  \n",
      "5 1 6 1  \n",
      "3 4 3 2  \n",
      "Matriks B\n",
      "3 2 4 1  \n",
      "2 1 4 2  \n",
      "3 4 5 1  \n",
      "5 2 3 2  \n",
      "Hasil penjumlahan Matriks A dan Matriks B\n",
      "4 5 8 6  \n",
      "5 3 9 8  \n",
      "8 5 11 2  \n",
      "8 6 6 4  \n"
     ]
    },
    {
     "data": {
      "text/plain": [
       "null"
      ]
     },
     "execution_count": 18,
     "metadata": {},
     "output_type": "execute_result"
    }
   ],
   "source": [
    "import java.util.Scanner;\n",
    "\n",
    "        Scanner input= new Scanner (System.in);\n",
    "        int A[][]=new int[4][4];\n",
    "        int B[][]=new int[4][4];\n",
    "        int C[][]=new int[4][4];\n",
    "\n",
    "        {\n",
    "        System.out.println(\"Masukkan Matriks A\");\n",
    "        for(int i=0;i<4;i++){\n",
    "            for(int j=0;j<4;j++){\n",
    "                System.out.print(\"[\" +(i+1)+ \"][\" +(j+1)+ \"]:\");\n",
    "                A[i][j]=input.nextInt();\n",
    "            }\n",
    "        }\n",
    "        System.out.println(\"Masukkan Matriks B\");\n",
    "        for(int k=0;k<4;k++){\n",
    "            for(int l=0;l<4;l++){\n",
    "                System.out.print(\"[\" +(k+1)+ \"][\" +(l+1)+ \"]:\");\n",
    "                B[k][l]=input.nextInt();\n",
    "            }\n",
    "        }\n",
    "        System.out.println(\"Matriks A\");\n",
    "        for(int i=0;i<4;i++){\n",
    "            for(int j=0;j<4;j++){\n",
    "                System.out.print(+(A[i][j])+ \" \");\n",
    "            }\n",
    "                System.out.println(\" \");\n",
    "        }\n",
    "        System.out.println(\"Matriks B\");\n",
    "        for(int k=0;k<4;k++){\n",
    "            for(int l=0;l<4;l++){\n",
    "                System.out.print(+(B[k][l])+ \" \");\n",
    "            }\n",
    "                System.out.println(\" \");\n",
    "        }\n",
    "         /* Melakukan penjumlahan matriks*/\n",
    "        for(int x=0;x<4;x++){\n",
    "            for(int y=0;y<4;y++){\n",
    "                C[x][y]=A[x][y]+B[x][y];\n",
    "            }\n",
    "        }\n",
    "        System.out.println(\"Hasil penjumlahan Matriks A dan Matriks B\");\n",
    "        for(int x=0;x<4;x++){\n",
    "            for(int y=0;y<4;y++){\n",
    "                System.out.print(+(C[x][y])+\" \");\n",
    "            }\n",
    "            System.out.println(\" \");\n",
    "        }\n",
    "         \n",
    "    }\n",
    "     "
   ]
  },
  {
   "cell_type": "markdown",
   "metadata": {},
   "source": [
    "Hamdan Syukron LILLAH\n",
    "\n",
    "Selesai"
   ]
  }
 ],
 "metadata": {
  "kernelspec": {
   "display_name": "Java",
   "language": "java",
   "name": "java"
  },
  "language_info": {
   "codemirror_mode": "text/x-java",
   "file_extension": ".java",
   "mimetype": "",
   "name": "Java",
   "nbconverter_exporter": "",
   "version": "1.8.0_121"
  },
  "toc": {
   "base_numbering": 1,
   "nav_menu": {},
   "number_sections": false,
   "sideBar": false,
   "skip_h1_title": false,
   "title_cell": "Table of Contents",
   "title_sidebar": "Contents",
   "toc_cell": false,
   "toc_position": {},
   "toc_section_display": false,
   "toc_window_display": false
  }
 },
 "nbformat": 4,
 "nbformat_minor": 2
}
